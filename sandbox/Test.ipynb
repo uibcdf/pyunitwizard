{
 "cells": [
  {
   "cell_type": "code",
   "execution_count": 1,
   "id": "f963cf9e-03b3-40b3-9675-f7eec5b8de74",
   "metadata": {},
   "outputs": [],
   "source": [
    "import pyunitwizard as puw"
   ]
  },
  {
   "cell_type": "code",
   "execution_count": 2,
   "id": "a424ebc8-cf5d-4a3b-a749-4677ddcc45d2",
   "metadata": {},
   "outputs": [],
   "source": [
    "from astropy import units as u"
   ]
  },
  {
   "cell_type": "code",
   "execution_count": 3,
   "id": "f3236aa9-5ebc-4b6b-9012-1ae12d02d3ff",
   "metadata": {},
   "outputs": [],
   "source": [
    "quantity = 5.0*u.m"
   ]
  },
  {
   "cell_type": "code",
   "execution_count": 5,
   "id": "b83a24ea-a26f-4ad2-b03a-314cd835e332",
   "metadata": {},
   "outputs": [
    {
     "data": {
      "text/plain": [
       "'astropy.units'"
      ]
     },
     "execution_count": 5,
     "metadata": {},
     "output_type": "execute_result"
    }
   ],
   "source": [
    "puw.get_form(quantity)"
   ]
  },
  {
   "cell_type": "code",
   "execution_count": 6,
   "id": "1bd04ffb-5bb0-4f93-aca0-e333fd8da9d5",
   "metadata": {},
   "outputs": [
    {
     "data": {
      "text/plain": [
       "True"
      ]
     },
     "execution_count": 6,
     "metadata": {},
     "output_type": "execute_result"
    }
   ],
   "source": [
    "puw.is_quantity(quantity)"
   ]
  },
  {
   "cell_type": "code",
   "execution_count": 7,
   "id": "87ac8494-e9d0-474c-8e87-8741dd78eec6",
   "metadata": {},
   "outputs": [
    {
     "data": {
      "text/plain": [
       "True"
      ]
     },
     "execution_count": 7,
     "metadata": {},
     "output_type": "execute_result"
    }
   ],
   "source": [
    "puw.is_unit(quantity.unit)"
   ]
  },
  {
   "cell_type": "code",
   "execution_count": null,
   "id": "b8abb609-3ca7-4e30-bb96-1739cf5bebc5",
   "metadata": {},
   "outputs": [],
   "source": [
    "aa = quantity.unit"
   ]
  },
  {
   "cell_type": "code",
   "execution_count": null,
   "id": "f535dc16-a391-4fb0-a3e6-e4960c216295",
   "metadata": {},
   "outputs": [],
   "source": [
    "type(aa)"
   ]
  },
  {
   "cell_type": "code",
   "execution_count": null,
   "id": "55939a6a-5e71-4201-913b-132f0fcbb788",
   "metadata": {},
   "outputs": [],
   "source": [
    "from astropy.units import typing"
   ]
  },
  {
   "cell_type": "code",
   "execution_count": null,
   "id": "57ec17c8-80c3-4115-8e33-ea011d40f4e6",
   "metadata": {},
   "outputs": [],
   "source": [
    "isinstance(quantity,typing.QuantityLike)"
   ]
  },
  {
   "cell_type": "code",
   "execution_count": null,
   "id": "04029ac3-1c73-41d3-8ec8-f10f81a92aff",
   "metadata": {},
   "outputs": [],
   "source": [
    "isinstance('a',typing.UnitLike)"
   ]
  },
  {
   "cell_type": "code",
   "execution_count": null,
   "id": "87f99358-b752-4741-9a5f-47fc06ebb5ab",
   "metadata": {},
   "outputs": [],
   "source": [
    "typing.UnitLike"
   ]
  },
  {
   "cell_type": "code",
   "execution_count": null,
   "id": "7f6a9794-5935-47e3-b2fc-b5f4533e15be",
   "metadata": {},
   "outputs": [],
   "source": [
    "isinstance(quantity.unit, u.UnitBase)"
   ]
  },
  {
   "cell_type": "code",
   "execution_count": null,
   "id": "04f991ea-effa-4d1c-bb5c-2e9a08e9f654",
   "metadata": {},
   "outputs": [],
   "source": []
  }
 ],
 "metadata": {
  "kernelspec": {
   "display_name": "Python 3 (ipykernel)",
   "language": "python",
   "name": "python3"
  },
  "language_info": {
   "codemirror_mode": {
    "name": "ipython",
    "version": 3
   },
   "file_extension": ".py",
   "mimetype": "text/x-python",
   "name": "python",
   "nbconvert_exporter": "python",
   "pygments_lexer": "ipython3",
   "version": "3.12.11"
  }
 },
 "nbformat": 4,
 "nbformat_minor": 5
}
