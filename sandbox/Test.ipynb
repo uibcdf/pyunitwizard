{
 "cells": [
  {
   "cell_type": "code",
   "execution_count": 1,
   "id": "f963cf9e-03b3-40b3-9675-f7eec5b8de74",
   "metadata": {},
   "outputs": [
    {
     "ename": "NameError",
     "evalue": "name 'Any' is not defined",
     "output_type": "error",
     "traceback": [
      "\u001b[31m---------------------------------------------------------------------------\u001b[39m",
      "\u001b[31mNameError\u001b[39m                                 Traceback (most recent call last)",
      "\u001b[36mCell\u001b[39m\u001b[36m \u001b[39m\u001b[32mIn[1]\u001b[39m\u001b[32m, line 1\u001b[39m\n\u001b[32m----> \u001b[39m\u001b[32m1\u001b[39m \u001b[38;5;28;01mimport\u001b[39;00m\u001b[38;5;250m \u001b[39m\u001b[34;01mpyunitwizard\u001b[39;00m\u001b[38;5;250m \u001b[39m\u001b[38;5;28;01mas\u001b[39;00m\u001b[38;5;250m \u001b[39m\u001b[34;01mpuw\u001b[39;00m\n",
      "\u001b[36mFile \u001b[39m\u001b[32m~/repos@uibcdf/pyunitwizard/pyunitwizard/__init__.py:14\u001b[39m\n\u001b[32m     10\u001b[39m     \u001b[38;5;28mprint\u001b[39m(\u001b[33m\"\u001b[39m\u001b[33mPyUnitWizard version \u001b[39m\u001b[33m\"\u001b[39m + __version__)\n\u001b[32m     13\u001b[39m \u001b[38;5;66;03m# Add imports here\u001b[39;00m\n\u001b[32m---> \u001b[39m\u001b[32m14\u001b[39m \u001b[38;5;28;01mfrom\u001b[39;00m\u001b[38;5;250m \u001b[39m\u001b[34;01m.\u001b[39;00m\u001b[34;01mmain\u001b[39;00m\u001b[38;5;250m \u001b[39m\u001b[38;5;28;01mimport\u001b[39;00m unit, quantity, get_form, is_quantity, is_unit\n\u001b[32m     15\u001b[39m \u001b[38;5;28;01mfrom\u001b[39;00m\u001b[38;5;250m \u001b[39m\u001b[34;01m.\u001b[39;00m\u001b[34;01mmain\u001b[39;00m\u001b[38;5;250m \u001b[39m\u001b[38;5;28;01mimport\u001b[39;00m get_value, get_unit, get_value_and_unit, change_value\n\u001b[32m     16\u001b[39m \u001b[38;5;28;01mfrom\u001b[39;00m\u001b[38;5;250m \u001b[39m\u001b[34;01m.\u001b[39;00m\u001b[34;01mmain\u001b[39;00m\u001b[38;5;250m \u001b[39m\u001b[38;5;28;01mimport\u001b[39;00m convert, to_string\n",
      "\u001b[36mFile \u001b[39m\u001b[32m~/repos@uibcdf/pyunitwizard/pyunitwizard/main.py:5\u001b[39m\n\u001b[32m      3\u001b[39m \u001b[38;5;28;01mfrom\u001b[39;00m\u001b[38;5;250m \u001b[39m\u001b[34;01m.\u001b[39;00m\u001b[34;01m_private\u001b[39;00m\u001b[34;01m.\u001b[39;00m\u001b[34;01mparsers\u001b[39;00m\u001b[38;5;250m \u001b[39m\u001b[38;5;28;01mimport\u001b[39;00m digest_parser\n\u001b[32m      4\u001b[39m \u001b[38;5;28;01mfrom\u001b[39;00m\u001b[38;5;250m \u001b[39m\u001b[34;01m.\u001b[39;00m\u001b[34;01m_private\u001b[39;00m\u001b[34;01m.\u001b[39;00m\u001b[34;01mquantity_or_unit\u001b[39;00m\u001b[38;5;250m \u001b[39m\u001b[38;5;28;01mimport\u001b[39;00m ArrayLike, QuantityOrUnit, QuantityLike, UnitLike\n\u001b[32m----> \u001b[39m\u001b[32m5\u001b[39m \u001b[38;5;28;01mfrom\u001b[39;00m\u001b[38;5;250m \u001b[39m\u001b[34;01m.\u001b[39;00m\u001b[34;01mforms\u001b[39;00m\u001b[38;5;250m \u001b[39m\u001b[38;5;28;01mimport\u001b[39;00m dict_is_form, dict_is_unit, dict_is_quantity, dict_dimensionality, dict_compatibility\n\u001b[32m      6\u001b[39m \u001b[38;5;28;01mfrom\u001b[39;00m\u001b[38;5;250m \u001b[39m\u001b[34;01m.\u001b[39;00m\u001b[34;01mforms\u001b[39;00m\u001b[38;5;250m \u001b[39m\u001b[38;5;28;01mimport\u001b[39;00m dict_get_unit, dict_get_value, dict_make_quantity\n\u001b[32m      7\u001b[39m \u001b[38;5;28;01mfrom\u001b[39;00m\u001b[38;5;250m \u001b[39m\u001b[34;01m.\u001b[39;00m\u001b[34;01mforms\u001b[39;00m\u001b[38;5;250m \u001b[39m\u001b[38;5;28;01mimport\u001b[39;00m dict_convert, dict_translate_quantity, dict_translate_unit, dict_change_value\n",
      "\u001b[36mFile \u001b[39m\u001b[32m~/repos@uibcdf/pyunitwizard/pyunitwizard/forms/__init__.py:94\u001b[39m\n\u001b[32m     90\u001b[39m     \u001b[38;5;28;01mpass\u001b[39;00m\n\u001b[32m     92\u001b[39m \u001b[38;5;66;03m# Load the string api.\u001b[39;00m\n\u001b[32m---> \u001b[39m\u001b[32m94\u001b[39m api = \u001b[43m_import_module\u001b[49m\u001b[43m(\u001b[49m\u001b[33;43m'\u001b[39;49m\u001b[33;43m.api_string\u001b[39;49m\u001b[33;43m'\u001b[39;49m\u001b[43m,\u001b[49m\u001b[43m \u001b[49m\u001b[43m_base_package\u001b[49m\u001b[43m)\u001b[49m\n\u001b[32m     96\u001b[39m dict_is_form[\u001b[33m'\u001b[39m\u001b[33mstring\u001b[39m\u001b[33m'\u001b[39m] = api.is_form\n\u001b[32m     97\u001b[39m dict_is_unit[\u001b[33m'\u001b[39m\u001b[33mstring\u001b[39m\u001b[33m'\u001b[39m] = api.is_unit\n",
      "\u001b[36mFile \u001b[39m\u001b[32m~/Myopt/miniconda3/envs/pyunitwizard@uibcdf_3.12/lib/python3.12/importlib/__init__.py:90\u001b[39m, in \u001b[36mimport_module\u001b[39m\u001b[34m(name, package)\u001b[39m\n\u001b[32m     88\u001b[39m             \u001b[38;5;28;01mbreak\u001b[39;00m\n\u001b[32m     89\u001b[39m         level += \u001b[32m1\u001b[39m\n\u001b[32m---> \u001b[39m\u001b[32m90\u001b[39m \u001b[38;5;28;01mreturn\u001b[39;00m \u001b[43m_bootstrap\u001b[49m\u001b[43m.\u001b[49m\u001b[43m_gcd_import\u001b[49m\u001b[43m(\u001b[49m\u001b[43mname\u001b[49m\u001b[43m[\u001b[49m\u001b[43mlevel\u001b[49m\u001b[43m:\u001b[49m\u001b[43m]\u001b[49m\u001b[43m,\u001b[49m\u001b[43m \u001b[49m\u001b[43mpackage\u001b[49m\u001b[43m,\u001b[49m\u001b[43m \u001b[49m\u001b[43mlevel\u001b[49m\u001b[43m)\u001b[49m\n",
      "\u001b[36mFile \u001b[39m\u001b[32m~/repos@uibcdf/pyunitwizard/pyunitwizard/forms/api_string.py:11\u001b[39m\n\u001b[32m      5\u001b[39m parser = \u001b[38;5;28;01mFalse\u001b[39;00m\n\u001b[32m      7\u001b[39m \u001b[38;5;66;03m#is_form={\u001b[39;00m\n\u001b[32m      8\u001b[39m \u001b[38;5;66;03m#    str:form_name,\u001b[39;00m\n\u001b[32m      9\u001b[39m \u001b[38;5;66;03m#    }\u001b[39;00m\n\u001b[32m---> \u001b[39m\u001b[32m11\u001b[39m \u001b[38;5;28;01mdef\u001b[39;00m\u001b[38;5;250m \u001b[39m\u001b[34mis_form\u001b[39m(quantity_or_unit: \u001b[43mAny\u001b[49m) -> \u001b[38;5;28mbool\u001b[39m:\n\u001b[32m     13\u001b[39m     \u001b[38;5;28;01mreturn\u001b[39;00m \u001b[38;5;28misinstance\u001b[39m(quantity_or_unit, \u001b[38;5;28mstr\u001b[39m)\n\u001b[32m     16\u001b[39m \u001b[38;5;28;01mdef\u001b[39;00m\u001b[38;5;250m \u001b[39m\u001b[34mis_quantity\u001b[39m(quantity_or_unit: \u001b[38;5;28mstr\u001b[39m) -> \u001b[38;5;28mbool\u001b[39m:\n",
      "\u001b[31mNameError\u001b[39m: name 'Any' is not defined"
     ]
    }
   ],
   "source": [
    "import pyunitwizard as puw"
   ]
  },
  {
   "cell_type": "code",
   "execution_count": null,
   "id": "a424ebc8-cf5d-4a3b-a749-4677ddcc45d2",
   "metadata": {},
   "outputs": [],
   "source": [
    "from astropy import units as u"
   ]
  },
  {
   "cell_type": "code",
   "execution_count": null,
   "id": "f3236aa9-5ebc-4b6b-9012-1ae12d02d3ff",
   "metadata": {},
   "outputs": [],
   "source": [
    "quantity = 5.0*u.m"
   ]
  },
  {
   "cell_type": "code",
   "execution_count": null,
   "id": "b83a24ea-a26f-4ad2-b03a-314cd835e332",
   "metadata": {},
   "outputs": [],
   "source": [
    "puw.get_form(quantity.unit)"
   ]
  },
  {
   "cell_type": "code",
   "execution_count": null,
   "id": "1bd04ffb-5bb0-4f93-aca0-e333fd8da9d5",
   "metadata": {},
   "outputs": [],
   "source": [
    "puw.is_quantity(quantity)"
   ]
  },
  {
   "cell_type": "code",
   "execution_count": null,
   "id": "87ac8494-e9d0-474c-8e87-8741dd78eec6",
   "metadata": {},
   "outputs": [],
   "source": [
    "puw.is_unit(quantity.unit)"
   ]
  },
  {
   "cell_type": "code",
   "execution_count": null,
   "id": "b8abb609-3ca7-4e30-bb96-1739cf5bebc5",
   "metadata": {},
   "outputs": [],
   "source": [
    "aa = quantity.unit"
   ]
  },
  {
   "cell_type": "code",
   "execution_count": null,
   "id": "f535dc16-a391-4fb0-a3e6-e4960c216295",
   "metadata": {},
   "outputs": [],
   "source": [
    "type(aa)"
   ]
  },
  {
   "cell_type": "code",
   "execution_count": null,
   "id": "55939a6a-5e71-4201-913b-132f0fcbb788",
   "metadata": {},
   "outputs": [],
   "source": [
    "from astropy.units import typing"
   ]
  },
  {
   "cell_type": "code",
   "execution_count": null,
   "id": "57ec17c8-80c3-4115-8e33-ea011d40f4e6",
   "metadata": {},
   "outputs": [],
   "source": [
    "isinstance(quantity,typing.QuantityLike)"
   ]
  },
  {
   "cell_type": "code",
   "execution_count": null,
   "id": "04029ac3-1c73-41d3-8ec8-f10f81a92aff",
   "metadata": {},
   "outputs": [],
   "source": [
    "isinstance('a',typing.UnitLike)"
   ]
  },
  {
   "cell_type": "code",
   "execution_count": null,
   "id": "87f99358-b752-4741-9a5f-47fc06ebb5ab",
   "metadata": {},
   "outputs": [],
   "source": [
    "typing.UnitLike"
   ]
  },
  {
   "cell_type": "code",
   "execution_count": null,
   "id": "7f6a9794-5935-47e3-b2fc-b5f4533e15be",
   "metadata": {},
   "outputs": [],
   "source": [
    "isinstance(quantity.unit, u.UnitBase)"
   ]
  },
  {
   "cell_type": "code",
   "execution_count": null,
   "id": "04f991ea-effa-4d1c-bb5c-2e9a08e9f654",
   "metadata": {},
   "outputs": [],
   "source": []
  }
 ],
 "metadata": {
  "kernelspec": {
   "display_name": "Python 3 (ipykernel)",
   "language": "python",
   "name": "python3"
  },
  "language_info": {
   "codemirror_mode": {
    "name": "ipython",
    "version": 3
   },
   "file_extension": ".py",
   "mimetype": "text/x-python",
   "name": "python",
   "nbconvert_exporter": "python",
   "pygments_lexer": "ipython3",
   "version": "3.12.11"
  }
 },
 "nbformat": 4,
 "nbformat_minor": 5
}
