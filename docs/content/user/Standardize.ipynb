{
 "cells": [
  {
   "cell_type": "code",
   "execution_count": 1,
   "metadata": {
    "execution": {
     "iopub.execute_input": "2025-09-25T18:32:47.446827Z",
     "iopub.status.busy": "2025-09-25T18:32:47.446363Z",
     "iopub.status.idle": "2025-09-25T18:32:47.512233Z",
     "shell.execute_reply": "2025-09-25T18:32:47.511200Z"
    }
   },
   "outputs": [],
   "source": [
    "%load_ext autoreload\n",
    "%autoreload 2"
   ]
  },
  {
   "cell_type": "markdown",
   "metadata": {},
   "source": [
    "# Standardization\n",
    "*-If quantities have to be handled in your project with a default set of dimensions, PyUnitWizard can help you defining a set of standard units-*\n",
    "\n",
    "Let's suppose we are working with observables and magnitudes encoded as pythonic quantities coming from different tools -with different forms-. PyUnitWizard, in addition to work with a default form defined at any moment, can also standardize quantities to a set of units of the users election:"
   ]
  },
  {
   "cell_type": "code",
   "execution_count": 2,
   "metadata": {
    "execution": {
     "iopub.execute_input": "2025-09-25T18:32:47.516467Z",
     "iopub.status.busy": "2025-09-25T18:32:47.516144Z",
     "iopub.status.idle": "2025-09-25T18:32:48.574093Z",
     "shell.execute_reply": "2025-09-25T18:32:48.573163Z"
    }
   },
   "outputs": [],
   "source": [
    "import pyunitwizard as puw"
   ]
  },
  {
   "cell_type": "markdown",
   "metadata": {},
   "source": [
    "With the method `puw.configure.set_standard_units()` the list of units as standards can be set:"
   ]
  },
  {
   "cell_type": "code",
   "execution_count": 3,
   "metadata": {
    "execution": {
     "iopub.execute_input": "2025-09-25T18:32:48.577829Z",
     "iopub.status.busy": "2025-09-25T18:32:48.577560Z",
     "iopub.status.idle": "2025-09-25T18:32:49.398179Z",
     "shell.execute_reply": "2025-09-25T18:32:49.396826Z"
    }
   },
   "outputs": [],
   "source": [
    "puw.configure.set_standard_units(['nm', 'ps', 'K', 'mole', 'amu', 'e',\n",
    "                                 'kcal/mol', 'N/nm**2', 'N', 'degrees'])"
   ]
  },
  {
   "cell_type": "code",
   "execution_count": 4,
   "metadata": {
    "execution": {
     "iopub.execute_input": "2025-09-25T18:32:49.402713Z",
     "iopub.status.busy": "2025-09-25T18:32:49.402249Z",
     "iopub.status.idle": "2025-09-25T18:32:49.440033Z",
     "shell.execute_reply": "2025-09-25T18:32:49.438655Z"
    }
   },
   "outputs": [
    {
     "data": {
      "text/plain": [
       "{'nm': {'[L]': 1,\n",
       "  '[M]': 0,\n",
       "  '[T]': 0,\n",
       "  '[K]': 0,\n",
       "  '[mol]': 0,\n",
       "  '[A]': 0,\n",
       "  '[Cd]': 0},\n",
       " 'ps': {'[L]': 0,\n",
       "  '[M]': 0,\n",
       "  '[T]': 1,\n",
       "  '[K]': 0,\n",
       "  '[mol]': 0,\n",
       "  '[A]': 0,\n",
       "  '[Cd]': 0},\n",
       " 'K': {'[L]': 0,\n",
       "  '[M]': 0,\n",
       "  '[T]': 0,\n",
       "  '[K]': 1,\n",
       "  '[mol]': 0,\n",
       "  '[A]': 0,\n",
       "  '[Cd]': 0},\n",
       " 'mole': {'[L]': 0,\n",
       "  '[M]': 0,\n",
       "  '[T]': 0,\n",
       "  '[K]': 0,\n",
       "  '[mol]': 1,\n",
       "  '[A]': 0,\n",
       "  '[Cd]': 0},\n",
       " 'amu': {'[L]': 0,\n",
       "  '[M]': 1,\n",
       "  '[T]': 0,\n",
       "  '[K]': 0,\n",
       "  '[mol]': 0,\n",
       "  '[A]': 0,\n",
       "  '[Cd]': 0},\n",
       " 'e': {'[L]': 0,\n",
       "  '[M]': 0,\n",
       "  '[T]': 1,\n",
       "  '[K]': 0,\n",
       "  '[mol]': 0,\n",
       "  '[A]': 1,\n",
       "  '[Cd]': 0},\n",
       " 'kcal/mol': {'[L]': 2,\n",
       "  '[M]': 1,\n",
       "  '[T]': -2,\n",
       "  '[K]': 0,\n",
       "  '[mol]': -1,\n",
       "  '[A]': 0,\n",
       "  '[Cd]': 0},\n",
       " 'N/nm**2': {'[L]': -1,\n",
       "  '[M]': 1,\n",
       "  '[T]': -2,\n",
       "  '[K]': 0,\n",
       "  '[mol]': 0,\n",
       "  '[A]': 0,\n",
       "  '[Cd]': 0},\n",
       " 'N': {'[L]': 1,\n",
       "  '[M]': 1,\n",
       "  '[T]': -2,\n",
       "  '[K]': 0,\n",
       "  '[mol]': 0,\n",
       "  '[A]': 0,\n",
       "  '[Cd]': 0},\n",
       " 'degrees': {'[L]': 0,\n",
       "  '[M]': 0,\n",
       "  '[T]': 0,\n",
       "  '[K]': 0,\n",
       "  '[mol]': 0,\n",
       "  '[A]': 0,\n",
       "  '[Cd]': 0}}"
      ]
     },
     "execution_count": 4,
     "metadata": {},
     "output_type": "execute_result"
    }
   ],
   "source": [
    "puw.configure.get_standard_units()"
   ]
  },
  {
   "cell_type": "markdown",
   "metadata": {},
   "source": [
    "Some of these standards are fundamental units, some are combinations, and others can be adimensional:"
   ]
  },
  {
   "cell_type": "code",
   "execution_count": 5,
   "metadata": {
    "execution": {
     "iopub.execute_input": "2025-09-25T18:32:49.517113Z",
     "iopub.status.busy": "2025-09-25T18:32:49.516610Z",
     "iopub.status.idle": "2025-09-25T18:32:49.548065Z",
     "shell.execute_reply": "2025-09-25T18:32:49.546825Z"
    }
   },
   "outputs": [
    {
     "data": {
      "text/plain": [
       "{'nm': array([1., 0., 0., 0., 0., 0., 0.]),\n",
       " 'ps': array([0., 0., 1., 0., 0., 0., 0.]),\n",
       " 'K': array([0., 0., 0., 1., 0., 0., 0.]),\n",
       " 'mole': array([0., 0., 0., 0., 1., 0., 0.]),\n",
       " 'amu': array([0., 1., 0., 0., 0., 0., 0.])}"
      ]
     },
     "execution_count": 5,
     "metadata": {},
     "output_type": "execute_result"
    }
   ],
   "source": [
    "puw.kernel.dimensional_fundamental_standards"
   ]
  },
  {
   "cell_type": "code",
   "execution_count": 6,
   "metadata": {
    "execution": {
     "iopub.execute_input": "2025-09-25T18:32:49.552025Z",
     "iopub.status.busy": "2025-09-25T18:32:49.551573Z",
     "iopub.status.idle": "2025-09-25T18:32:49.580156Z",
     "shell.execute_reply": "2025-09-25T18:32:49.578909Z"
    }
   },
   "outputs": [
    {
     "data": {
      "text/plain": [
       "{'e': array([0., 0., 1., 0., 0., 1., 0.]),\n",
       " 'kcal/mol': array([ 2.,  1., -2.,  0., -1.,  0.,  0.]),\n",
       " 'N/nm**2': array([-1.,  1., -2.,  0.,  0.,  0.,  0.]),\n",
       " 'N': array([ 1.,  1., -2.,  0.,  0.,  0.,  0.])}"
      ]
     },
     "execution_count": 6,
     "metadata": {},
     "output_type": "execute_result"
    }
   ],
   "source": [
    "puw.kernel.dimensional_combinations_standards"
   ]
  },
  {
   "cell_type": "code",
   "execution_count": 7,
   "metadata": {
    "execution": {
     "iopub.execute_input": "2025-09-25T18:32:49.584591Z",
     "iopub.status.busy": "2025-09-25T18:32:49.584104Z",
     "iopub.status.idle": "2025-09-25T18:32:49.610323Z",
     "shell.execute_reply": "2025-09-25T18:32:49.609111Z"
    }
   },
   "outputs": [
    {
     "data": {
      "text/plain": [
       "{'degrees': array([0., 0., 0., 0., 0., 0., 0.])}"
      ]
     },
     "execution_count": 7,
     "metadata": {},
     "output_type": "execute_result"
    }
   ],
   "source": [
    "puw.kernel.adimensional_standards"
   ]
  },
  {
   "cell_type": "code",
   "execution_count": 8,
   "metadata": {
    "execution": {
     "iopub.execute_input": "2025-09-25T18:32:49.614687Z",
     "iopub.status.busy": "2025-09-25T18:32:49.614254Z",
     "iopub.status.idle": "2025-09-25T18:32:49.639646Z",
     "shell.execute_reply": "2025-09-25T18:32:49.638432Z"
    }
   },
   "outputs": [
    {
     "data": {
      "text/plain": [
       "{'nm': array([1., 0., 0., 0., 0., 0., 0.]),\n",
       " 'ps': array([0., 0., 1., 0., 0., 0., 0.]),\n",
       " 'K': array([0., 0., 0., 1., 0., 0., 0.]),\n",
       " 'mole': array([0., 0., 0., 0., 1., 0., 0.]),\n",
       " 'amu': array([0., 1., 0., 0., 0., 0., 0.]),\n",
       " 'e': array([0., 0., 1., 0., 0., 1., 0.])}"
      ]
     },
     "execution_count": 8,
     "metadata": {},
     "output_type": "execute_result"
    }
   ],
   "source": [
    "puw.kernel.tentative_base_standards"
   ]
  },
  {
   "cell_type": "markdown",
   "metadata": {},
   "source": [
    "This way, the method `pyunitwizard.standardize()` converts any quantity to the default form with the standard units:"
   ]
  },
  {
   "cell_type": "code",
   "execution_count": 9,
   "metadata": {
    "execution": {
     "iopub.execute_input": "2025-09-25T18:32:49.643769Z",
     "iopub.status.busy": "2025-09-25T18:32:49.643378Z",
     "iopub.status.idle": "2025-09-25T18:32:49.670058Z",
     "shell.execute_reply": "2025-09-25T18:32:49.668989Z"
    }
   },
   "outputs": [
    {
     "name": "stdout",
     "output_type": "stream",
     "text": [
      "0.125 nanometer / picosecond as pint quantity\n"
     ]
    }
   ],
   "source": [
    "q = puw.quantity(450, 'km/hour', form='openmm.unit')\n",
    "output = puw.standardize(q)\n",
    "print('{} as {} quantity'.format(output, puw.get_form(output)))"
   ]
  },
  {
   "cell_type": "code",
   "execution_count": 10,
   "metadata": {
    "execution": {
     "iopub.execute_input": "2025-09-25T18:32:49.673679Z",
     "iopub.status.busy": "2025-09-25T18:32:49.673361Z",
     "iopub.status.idle": "2025-09-25T18:32:49.693543Z",
     "shell.execute_reply": "2025-09-25T18:32:49.692490Z"
    }
   },
   "outputs": [
    {
     "name": "stdout",
     "output_type": "stream",
     "text": [
      "0.3346080305927342 kilocalorie / mole as pint quantity\n"
     ]
    }
   ],
   "source": [
    "q = puw.quantity(1.4, 'kJ/mol')\n",
    "output = puw.standardize(q)\n",
    "print('{} as {} quantity'.format(output, puw.get_form(output)))"
   ]
  },
  {
   "cell_type": "code",
   "execution_count": 11,
   "metadata": {
    "execution": {
     "iopub.execute_input": "2025-09-25T18:32:49.697093Z",
     "iopub.status.busy": "2025-09-25T18:32:49.696782Z",
     "iopub.status.idle": "2025-09-25T18:32:49.716984Z",
     "shell.execute_reply": "2025-09-25T18:32:49.715957Z"
    }
   },
   "outputs": [
    {
     "name": "stdout",
     "output_type": "stream",
     "text": [
      "250.0 newton / nanometer ** 2 as pint quantity\n"
     ]
    }
   ],
   "source": [
    "q = puw.quantity(0.250, 'kN/nm**2')\n",
    "output = puw.standardize(q)\n",
    "print('{} as {} quantity'.format(output, puw.get_form(output)))"
   ]
  },
  {
   "cell_type": "code",
   "execution_count": 12,
   "metadata": {
    "execution": {
     "iopub.execute_input": "2025-09-25T18:32:49.720521Z",
     "iopub.status.busy": "2025-09-25T18:32:49.720227Z",
     "iopub.status.idle": "2025-09-25T18:32:49.739290Z",
     "shell.execute_reply": "2025-09-25T18:32:49.738242Z"
    }
   },
   "outputs": [
    {
     "name": "stdout",
     "output_type": "stream",
     "text": [
      "1.6273282875416e-26 newton as pint quantity\n"
     ]
    }
   ],
   "source": [
    "q = puw.quantity(9.8, 'amu*m/s**2')\n",
    "output = puw.standardize(q)\n",
    "print('{} as {} quantity'.format(output, puw.get_form(output)))"
   ]
  },
  {
   "cell_type": "code",
   "execution_count": 13,
   "metadata": {
    "execution": {
     "iopub.execute_input": "2025-09-25T18:32:49.742759Z",
     "iopub.status.busy": "2025-09-25T18:32:49.742483Z",
     "iopub.status.idle": "2025-09-25T18:32:49.760567Z",
     "shell.execute_reply": "2025-09-25T18:32:49.759538Z"
    }
   },
   "outputs": [],
   "source": [
    "puw.configure.set_standard_units(['nm', 'ps', 'K', 'kcal', 'mol', 'radians'])"
   ]
  },
  {
   "cell_type": "code",
   "execution_count": 14,
   "metadata": {
    "execution": {
     "iopub.execute_input": "2025-09-25T18:32:49.763858Z",
     "iopub.status.busy": "2025-09-25T18:32:49.763573Z",
     "iopub.status.idle": "2025-09-25T18:32:49.781381Z",
     "shell.execute_reply": "2025-09-25T18:32:49.780428Z"
    }
   },
   "outputs": [
    {
     "data": {
      "text/plain": [
       "{'nm': {'[L]': 1,\n",
       "  '[M]': 0,\n",
       "  '[T]': 0,\n",
       "  '[K]': 0,\n",
       "  '[mol]': 0,\n",
       "  '[A]': 0,\n",
       "  '[Cd]': 0},\n",
       " 'ps': {'[L]': 0,\n",
       "  '[M]': 0,\n",
       "  '[T]': 1,\n",
       "  '[K]': 0,\n",
       "  '[mol]': 0,\n",
       "  '[A]': 0,\n",
       "  '[Cd]': 0},\n",
       " 'K': {'[L]': 0,\n",
       "  '[M]': 0,\n",
       "  '[T]': 0,\n",
       "  '[K]': 1,\n",
       "  '[mol]': 0,\n",
       "  '[A]': 0,\n",
       "  '[Cd]': 0},\n",
       " 'kcal': {'[L]': 2,\n",
       "  '[M]': 1,\n",
       "  '[T]': -2,\n",
       "  '[K]': 0,\n",
       "  '[mol]': 0,\n",
       "  '[A]': 0,\n",
       "  '[Cd]': 0},\n",
       " 'mol': {'[L]': 0,\n",
       "  '[M]': 0,\n",
       "  '[T]': 0,\n",
       "  '[K]': 0,\n",
       "  '[mol]': 1,\n",
       "  '[A]': 0,\n",
       "  '[Cd]': 0},\n",
       " 'radians': {'[L]': 0,\n",
       "  '[M]': 0,\n",
       "  '[T]': 0,\n",
       "  '[K]': 0,\n",
       "  '[mol]': 0,\n",
       "  '[A]': 0,\n",
       "  '[Cd]': 0}}"
      ]
     },
     "execution_count": 14,
     "metadata": {},
     "output_type": "execute_result"
    }
   ],
   "source": [
    "puw.configure.get_standard_units()"
   ]
  },
  {
   "cell_type": "code",
   "execution_count": 15,
   "metadata": {
    "execution": {
     "iopub.execute_input": "2025-09-25T18:32:49.784730Z",
     "iopub.status.busy": "2025-09-25T18:32:49.784471Z",
     "iopub.status.idle": "2025-09-25T18:32:49.801654Z",
     "shell.execute_reply": "2025-09-25T18:32:49.800695Z"
    }
   },
   "outputs": [
    {
     "data": {
      "text/plain": [
       "{'nm': array([1., 0., 0., 0., 0., 0., 0.]),\n",
       " 'ps': array([0., 0., 1., 0., 0., 0., 0.]),\n",
       " 'K': array([0., 0., 0., 1., 0., 0., 0.]),\n",
       " 'mol': array([0., 0., 0., 0., 1., 0., 0.])}"
      ]
     },
     "execution_count": 15,
     "metadata": {},
     "output_type": "execute_result"
    }
   ],
   "source": [
    "puw.kernel.dimensional_fundamental_standards"
   ]
  },
  {
   "cell_type": "code",
   "execution_count": 16,
   "metadata": {
    "execution": {
     "iopub.execute_input": "2025-09-25T18:32:49.804960Z",
     "iopub.status.busy": "2025-09-25T18:32:49.804701Z",
     "iopub.status.idle": "2025-09-25T18:32:49.822232Z",
     "shell.execute_reply": "2025-09-25T18:32:49.821269Z"
    }
   },
   "outputs": [
    {
     "data": {
      "text/plain": [
       "{'nm': array([1., 0., 0., 0., 0., 0., 0.]),\n",
       " 'ps': array([0., 0., 1., 0., 0., 0., 0.]),\n",
       " 'K': array([0., 0., 0., 1., 0., 0., 0.]),\n",
       " 'mol': array([0., 0., 0., 0., 1., 0., 0.]),\n",
       " 'kcal': array([ 2.,  1., -2.,  0.,  0.,  0.,  0.])}"
      ]
     },
     "execution_count": 16,
     "metadata": {},
     "output_type": "execute_result"
    }
   ],
   "source": [
    "puw.kernel.tentative_base_standards"
   ]
  },
  {
   "cell_type": "code",
   "execution_count": 17,
   "metadata": {
    "execution": {
     "iopub.execute_input": "2025-09-25T18:32:49.825537Z",
     "iopub.status.busy": "2025-09-25T18:32:49.825285Z",
     "iopub.status.idle": "2025-09-25T18:32:49.844044Z",
     "shell.execute_reply": "2025-09-25T18:32:49.843100Z"
    }
   },
   "outputs": [
    {
     "name": "stdout",
     "output_type": "stream",
     "text": [
      "0.3346080305927342 kilocalorie / mole as pint quantity\n"
     ]
    }
   ],
   "source": [
    "q = puw.quantity(1.4, 'kJ/mol')\n",
    "output = puw.standardize(q)\n",
    "print('{} as {} quantity'.format(output, puw.get_form(output)))"
   ]
  },
  {
   "cell_type": "code",
   "execution_count": 18,
   "metadata": {
    "execution": {
     "iopub.execute_input": "2025-09-25T18:32:49.847295Z",
     "iopub.status.busy": "2025-09-25T18:32:49.847033Z",
     "iopub.status.idle": "2025-09-25T18:32:49.863929Z",
     "shell.execute_reply": "2025-09-25T18:32:49.863025Z"
    }
   },
   "outputs": [
    {
     "name": "stdout",
     "output_type": "stream",
     "text": [
      "0.5235987755982988 radian as pint quantity\n"
     ]
    }
   ],
   "source": [
    "q = puw.quantity(30, 'degrees')\n",
    "output = puw.standardize(q)\n",
    "print('{} as {} quantity'.format(output, puw.get_form(output)))"
   ]
  }
 ],
 "metadata": {
  "kernelspec": {
   "display_name": "Python 3 (ipykernel)",
   "language": "python",
   "name": "python3"
  },
  "language_info": {
   "codemirror_mode": {
    "name": "ipython",
    "version": 3
   },
   "file_extension": ".py",
   "mimetype": "text/x-python",
   "name": "python",
   "nbconvert_exporter": "python",
   "pygments_lexer": "ipython3",
   "version": "3.12.11"
  }
 },
 "nbformat": 4,
 "nbformat_minor": 4
}
