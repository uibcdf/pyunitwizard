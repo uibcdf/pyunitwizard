{
 "cells": [
  {
   "cell_type": "code",
   "execution_count": 1,
   "metadata": {
    "execution": {
     "iopub.execute_input": "2025-09-25T18:33:26.988620Z",
     "iopub.status.busy": "2025-09-25T18:33:26.988322Z",
     "iopub.status.idle": "2025-09-25T18:33:27.029289Z",
     "shell.execute_reply": "2025-09-25T18:33:27.028316Z"
    }
   },
   "outputs": [],
   "source": [
    "%load_ext autoreload\n",
    "%autoreload 2"
   ]
  },
  {
   "cell_type": "markdown",
   "metadata": {},
   "source": [
    "# Convert quantities\n",
    "*Quantities can be converted into other form and units with PyUnitWizard.*\n",
    "\n",
    "To facilitate the conversion of units between different forms, PyUnitWizard includes the method `pyunitwizard.convert()`. This way quantities and units can be converted between different forms and units:"
   ]
  },
  {
   "cell_type": "code",
   "execution_count": 2,
   "metadata": {
    "execution": {
     "iopub.execute_input": "2025-09-25T18:33:27.033337Z",
     "iopub.status.busy": "2025-09-25T18:33:27.033059Z",
     "iopub.status.idle": "2025-09-25T18:33:28.063396Z",
     "shell.execute_reply": "2025-09-25T18:33:28.062398Z"
    }
   },
   "outputs": [],
   "source": [
    "import pyunitwizard as puw"
   ]
  },
  {
   "cell_type": "code",
   "execution_count": 3,
   "metadata": {
    "execution": {
     "iopub.execute_input": "2025-09-25T18:33:28.067046Z",
     "iopub.status.busy": "2025-09-25T18:33:28.066768Z",
     "iopub.status.idle": "2025-09-25T18:33:28.082900Z",
     "shell.execute_reply": "2025-09-25T18:33:28.081927Z"
    }
   },
   "outputs": [],
   "source": [
    "q = puw.quantity(value=3.0, unit='joules', form='openmm.unit')"
   ]
  },
  {
   "cell_type": "code",
   "execution_count": 4,
   "metadata": {
    "execution": {
     "iopub.execute_input": "2025-09-25T18:33:28.086092Z",
     "iopub.status.busy": "2025-09-25T18:33:28.085875Z",
     "iopub.status.idle": "2025-09-25T18:33:28.098793Z",
     "shell.execute_reply": "2025-09-25T18:33:28.097657Z"
    }
   },
   "outputs": [],
   "source": [
    "q2 = puw.convert(q, to_unit='kilocalories', to_form='pint')"
   ]
  },
  {
   "cell_type": "code",
   "execution_count": 5,
   "metadata": {
    "execution": {
     "iopub.execute_input": "2025-09-25T18:33:28.101954Z",
     "iopub.status.busy": "2025-09-25T18:33:28.101691Z",
     "iopub.status.idle": "2025-09-25T18:33:28.118219Z",
     "shell.execute_reply": "2025-09-25T18:33:28.117330Z"
    }
   },
   "outputs": [
    {
     "data": {
      "text/html": [
       "0.0007170172084130018 kilocalorie"
      ],
      "text/latex": [
       "$0.0007170172084130018\\ \\mathrm{kilocalorie}$"
      ],
      "text/plain": [
       "<Quantity(0.000717017208, 'kilocalorie')>"
      ]
     },
     "execution_count": 5,
     "metadata": {},
     "output_type": "execute_result"
    }
   ],
   "source": [
    "q2"
   ]
  },
  {
   "cell_type": "markdown",
   "metadata": {},
   "source": [
    "If the output form is not specified with the argument `to_form`, a quantity with the same form is obtained:"
   ]
  },
  {
   "cell_type": "code",
   "execution_count": 6,
   "metadata": {
    "execution": {
     "iopub.execute_input": "2025-09-25T18:33:28.189385Z",
     "iopub.status.busy": "2025-09-25T18:33:28.189083Z",
     "iopub.status.idle": "2025-09-25T18:33:28.204630Z",
     "shell.execute_reply": "2025-09-25T18:33:28.203499Z"
    }
   },
   "outputs": [],
   "source": [
    "q = puw.quantity(value=1000.0, unit='kN/m**2', form='pint')"
   ]
  },
  {
   "cell_type": "code",
   "execution_count": 7,
   "metadata": {
    "execution": {
     "iopub.execute_input": "2025-09-25T18:33:28.207007Z",
     "iopub.status.busy": "2025-09-25T18:33:28.206808Z",
     "iopub.status.idle": "2025-09-25T18:33:28.219328Z",
     "shell.execute_reply": "2025-09-25T18:33:28.218175Z"
    }
   },
   "outputs": [],
   "source": [
    "q2 = puw.convert(q, to_unit='atmospheres')"
   ]
  },
  {
   "cell_type": "code",
   "execution_count": 8,
   "metadata": {
    "execution": {
     "iopub.execute_input": "2025-09-25T18:33:28.222113Z",
     "iopub.status.busy": "2025-09-25T18:33:28.221900Z",
     "iopub.status.idle": "2025-09-25T18:33:28.236041Z",
     "shell.execute_reply": "2025-09-25T18:33:28.235099Z"
    }
   },
   "outputs": [
    {
     "data": {
      "text/html": [
       "9.869232667160128 standard_atmosphere"
      ],
      "text/latex": [
       "$9.869232667160128\\ \\mathrm{standard\\_atmosphere}$"
      ],
      "text/plain": [
       "<Quantity(9.86923267, 'standard_atmosphere')>"
      ]
     },
     "execution_count": 8,
     "metadata": {},
     "output_type": "execute_result"
    }
   ],
   "source": [
    "q2"
   ]
  },
  {
   "cell_type": "code",
   "execution_count": 9,
   "metadata": {
    "execution": {
     "iopub.execute_input": "2025-09-25T18:33:28.239304Z",
     "iopub.status.busy": "2025-09-25T18:33:28.239039Z",
     "iopub.status.idle": "2025-09-25T18:33:28.254926Z",
     "shell.execute_reply": "2025-09-25T18:33:28.254040Z"
    }
   },
   "outputs": [
    {
     "data": {
      "text/plain": [
       "'pint'"
      ]
     },
     "execution_count": 9,
     "metadata": {},
     "output_type": "execute_result"
    }
   ],
   "source": [
    "puw.get_form(q2)"
   ]
  }
 ],
 "metadata": {
  "kernelspec": {
   "display_name": "Python 3 (ipykernel)",
   "language": "python",
   "name": "python3"
  },
  "language_info": {
   "codemirror_mode": {
    "name": "ipython",
    "version": 3
   },
   "file_extension": ".py",
   "mimetype": "text/x-python",
   "name": "python",
   "nbconvert_exporter": "python",
   "pygments_lexer": "ipython3",
   "version": "3.12.11"
  }
 },
 "nbformat": 4,
 "nbformat_minor": 4
}