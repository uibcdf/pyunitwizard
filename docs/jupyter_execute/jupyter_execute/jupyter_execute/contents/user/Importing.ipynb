{
 "cells": [
  {
   "cell_type": "markdown",
   "metadata": {},
   "source": [
    "# Import and configure PyUnitWizard\n",
    "\n",
    "*-The list of unit libraries used by PyUnitWizard needs to be loaded at the beginning-*\n",
    "\n",
    "PyUnitWizard detects, in the very moment it is imported, the list of supported libraries available in you environment."
   ]
  },
  {
   "cell_type": "code",
   "execution_count": 1,
   "metadata": {
    "execution": {
     "iopub.execute_input": "2025-09-25T18:32:54.341194Z",
     "iopub.status.busy": "2025-09-25T18:32:54.340722Z",
     "iopub.status.idle": "2025-09-25T18:32:55.366472Z",
     "shell.execute_reply": "2025-09-25T18:32:55.365524Z"
    }
   },
   "outputs": [],
   "source": [
    "import pyunitwizard as puw"
   ]
  },
  {
   "cell_type": "code",
   "execution_count": 2,
   "metadata": {
    "execution": {
     "iopub.execute_input": "2025-09-25T18:32:55.369809Z",
     "iopub.status.busy": "2025-09-25T18:32:55.369542Z",
     "iopub.status.idle": "2025-09-25T18:32:55.376785Z",
     "shell.execute_reply": "2025-09-25T18:32:55.375899Z"
    }
   },
   "outputs": [
    {
     "data": {
      "text/plain": [
       "['pint', 'openmm.unit', 'unyt']"
      ]
     },
     "execution_count": 2,
     "metadata": {},
     "output_type": "execute_result"
    }
   ],
   "source": [
    "puw.configure.get_libraries_supported()"
   ]
  },
  {
   "cell_type": "markdown",
   "metadata": {},
   "source": [
    "You can check the quantities libraries the wizard is going to work with:"
   ]
  },
  {
   "cell_type": "code",
   "execution_count": 3,
   "metadata": {
    "execution": {
     "iopub.execute_input": "2025-09-25T18:32:55.417615Z",
     "iopub.status.busy": "2025-09-25T18:32:55.417403Z",
     "iopub.status.idle": "2025-09-25T18:32:55.422278Z",
     "shell.execute_reply": "2025-09-25T18:32:55.421338Z"
    }
   },
   "outputs": [
    {
     "data": {
      "text/plain": [
       "['pint', 'openmm.unit', 'unyt']"
      ]
     },
     "execution_count": 3,
     "metadata": {},
     "output_type": "execute_result"
    }
   ],
   "source": [
    "puw.configure.get_libraries_loaded()"
   ]
  },
  {
   "cell_type": "markdown",
   "metadata": {},
   "source": [
    "Finnally, PyUnitWizard always defines the first library loaded as the default one. But this can be changed as follows:"
   ]
  },
  {
   "cell_type": "code",
   "execution_count": 4,
   "metadata": {
    "execution": {
     "iopub.execute_input": "2025-09-25T18:32:55.424870Z",
     "iopub.status.busy": "2025-09-25T18:32:55.424600Z",
     "iopub.status.idle": "2025-09-25T18:32:55.429624Z",
     "shell.execute_reply": "2025-09-25T18:32:55.428830Z"
    }
   },
   "outputs": [
    {
     "data": {
      "text/plain": [
       "'pint'"
      ]
     },
     "execution_count": 4,
     "metadata": {},
     "output_type": "execute_result"
    }
   ],
   "source": [
    "puw.configure.get_default_form()"
   ]
  },
  {
   "cell_type": "code",
   "execution_count": 5,
   "metadata": {
    "execution": {
     "iopub.execute_input": "2025-09-25T18:32:55.432338Z",
     "iopub.status.busy": "2025-09-25T18:32:55.431975Z",
     "iopub.status.idle": "2025-09-25T18:32:55.436198Z",
     "shell.execute_reply": "2025-09-25T18:32:55.435165Z"
    }
   },
   "outputs": [],
   "source": [
    "puw.configure.set_default_form('openmm.unit')"
   ]
  },
  {
   "cell_type": "code",
   "execution_count": 6,
   "metadata": {
    "execution": {
     "iopub.execute_input": "2025-09-25T18:32:55.438919Z",
     "iopub.status.busy": "2025-09-25T18:32:55.438601Z",
     "iopub.status.idle": "2025-09-25T18:32:55.444562Z",
     "shell.execute_reply": "2025-09-25T18:32:55.443386Z"
    }
   },
   "outputs": [
    {
     "data": {
      "text/plain": [
       "'openmm.unit'"
      ]
     },
     "execution_count": 6,
     "metadata": {},
     "output_type": "execute_result"
    }
   ],
   "source": [
    "puw.configure.get_default_form()"
   ]
  },
  {
   "cell_type": "markdown",
   "metadata": {},
   "source": [
    "This way, if no library name -or quantity form name- is specified, PyUnitWizard assumes that the default one is applied:"
   ]
  },
  {
   "cell_type": "code",
   "execution_count": 7,
   "metadata": {
    "execution": {
     "iopub.execute_input": "2025-09-25T18:32:55.447345Z",
     "iopub.status.busy": "2025-09-25T18:32:55.447074Z",
     "iopub.status.idle": "2025-09-25T18:32:55.451473Z",
     "shell.execute_reply": "2025-09-25T18:32:55.450456Z"
    }
   },
   "outputs": [],
   "source": [
    "q = puw.quantity(1.0,'s')"
   ]
  },
  {
   "cell_type": "code",
   "execution_count": 8,
   "metadata": {
    "execution": {
     "iopub.execute_input": "2025-09-25T18:32:55.454389Z",
     "iopub.status.busy": "2025-09-25T18:32:55.454019Z",
     "iopub.status.idle": "2025-09-25T18:32:55.459914Z",
     "shell.execute_reply": "2025-09-25T18:32:55.458876Z"
    }
   },
   "outputs": [
    {
     "data": {
      "text/plain": [
       "'openmm.unit'"
      ]
     },
     "execution_count": 8,
     "metadata": {},
     "output_type": "execute_result"
    }
   ],
   "source": [
    "puw.get_form(q)"
   ]
  },
  {
   "cell_type": "code",
   "execution_count": null,
   "metadata": {},
   "outputs": [],
   "source": []
  }
 ],
 "metadata": {
  "kernelspec": {
   "display_name": "Python 3 (ipykernel)",
   "language": "python",
   "name": "python3"
  },
  "language_info": {
   "codemirror_mode": {
    "name": "ipython",
    "version": 3
   },
   "file_extension": ".py",
   "mimetype": "text/x-python",
   "name": "python",
   "nbconvert_exporter": "python",
   "pygments_lexer": "ipython3",
   "version": "3.12.11"
  }
 },
 "nbformat": 4,
 "nbformat_minor": 4
}