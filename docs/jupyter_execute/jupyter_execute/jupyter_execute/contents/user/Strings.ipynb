{
 "cells": [
  {
   "cell_type": "markdown",
   "metadata": {},
   "source": [
    "# Working with strings\n",
    "*A quantity can be created from a string expression, but not all libraries understand the same syntaxis and vocabulary*\n",
    "\n",
    "Some python libraries to work with physical quantities, as pint, are very efficient parsing strings. And some other probably not. And in addition, it is probable that not all of them use the samy syntaxis. With PyUnitWizard a unique parser and syntaxis can be used not matter the desired form of the quantity. Let's show how the methods `pyunitwizard.string_to_quantity()` and `pyunitwizard.string_to_unit()` work:"
   ]
  },
  {
   "cell_type": "code",
   "execution_count": 1,
   "metadata": {
    "execution": {
     "iopub.execute_input": "2025-09-25T18:33:32.708340Z",
     "iopub.status.busy": "2025-09-25T18:33:32.707890Z",
     "iopub.status.idle": "2025-09-25T18:33:33.811256Z",
     "shell.execute_reply": "2025-09-25T18:33:33.810290Z"
    }
   },
   "outputs": [],
   "source": [
    "import pyunitwizard as puw\n",
    "puw.configure.load_library(['pint', 'openmm.unit'])\n",
    "puw.configure.set_default_form('openmm.unit')"
   ]
  },
  {
   "cell_type": "code",
   "execution_count": 2,
   "metadata": {
    "execution": {
     "iopub.execute_input": "2025-09-25T18:33:33.814875Z",
     "iopub.status.busy": "2025-09-25T18:33:33.814608Z",
     "iopub.status.idle": "2025-09-25T18:33:33.821745Z",
     "shell.execute_reply": "2025-09-25T18:33:33.820830Z"
    }
   },
   "outputs": [
    {
     "data": {
      "text/plain": [
       "4.0 L"
      ]
     },
     "execution_count": 2,
     "metadata": {},
     "output_type": "execute_result"
    }
   ],
   "source": [
    "puw.quantity('2 litres + 20 dL')"
   ]
  },
  {
   "cell_type": "code",
   "execution_count": 3,
   "metadata": {
    "execution": {
     "iopub.execute_input": "2025-09-25T18:33:33.885540Z",
     "iopub.status.busy": "2025-09-25T18:33:33.885309Z",
     "iopub.status.idle": "2025-09-25T18:33:33.890769Z",
     "shell.execute_reply": "2025-09-25T18:33:33.890154Z"
    }
   },
   "outputs": [
    {
     "data": {
      "text/plain": [
       "2.0 N/(m**2)"
      ]
     },
     "execution_count": 3,
     "metadata": {},
     "output_type": "execute_result"
    }
   ],
   "source": [
    "puw.convert('2 newtons per square meter', parser='pint')"
   ]
  },
  {
   "cell_type": "code",
   "execution_count": 4,
   "metadata": {
    "execution": {
     "iopub.execute_input": "2025-09-25T18:33:33.893744Z",
     "iopub.status.busy": "2025-09-25T18:33:33.893498Z",
     "iopub.status.idle": "2025-09-25T18:33:33.900065Z",
     "shell.execute_reply": "2025-09-25T18:33:33.899155Z"
    }
   },
   "outputs": [
    {
     "data": {
      "text/html": [
       "1.5 kilocalorie/mole"
      ],
      "text/latex": [
       "$1.5\\ \\frac{\\mathrm{kilocalorie}}{\\mathrm{mole}}$"
      ],
      "text/plain": [
       "<Quantity(1.5, 'kilocalorie / mole')>"
      ]
     },
     "execution_count": 4,
     "metadata": {},
     "output_type": "execute_result"
    }
   ],
   "source": [
    "puw.quantity('1.5 kcal / mole', parser='pint', form='pint')"
   ]
  },
  {
   "cell_type": "code",
   "execution_count": 5,
   "metadata": {
    "execution": {
     "iopub.execute_input": "2025-09-25T18:33:33.903265Z",
     "iopub.status.busy": "2025-09-25T18:33:33.902883Z",
     "iopub.status.idle": "2025-09-25T18:33:33.910361Z",
     "shell.execute_reply": "2025-09-25T18:33:33.909298Z"
    }
   },
   "outputs": [
    {
     "data": {
      "text/html": [
       "1.0 1/kelvin"
      ],
      "text/latex": [
       "$1.0\\ \\frac{1}{\\mathrm{kelvin}}$"
      ],
      "text/plain": [
       "<Quantity(1.0, '1 / kelvin')>"
      ]
     },
     "execution_count": 5,
     "metadata": {},
     "output_type": "execute_result"
    }
   ],
   "source": [
    "puw.convert('kelvin**(-1)', parser='pint', to_form='pint')"
   ]
  },
  {
   "cell_type": "markdown",
   "metadata": {},
   "source": [
    "And the inverse translation can be performed:"
   ]
  },
  {
   "cell_type": "code",
   "execution_count": 6,
   "metadata": {
    "execution": {
     "iopub.execute_input": "2025-09-25T18:33:33.913954Z",
     "iopub.status.busy": "2025-09-25T18:33:33.913539Z",
     "iopub.status.idle": "2025-09-25T18:33:33.919794Z",
     "shell.execute_reply": "2025-09-25T18:33:33.918313Z"
    }
   },
   "outputs": [],
   "source": [
    "q = puw.convert('2 newtons per square meter', parser='pint', to_form='openmm.unit')"
   ]
  },
  {
   "cell_type": "code",
   "execution_count": 7,
   "metadata": {
    "execution": {
     "iopub.execute_input": "2025-09-25T18:33:33.923938Z",
     "iopub.status.busy": "2025-09-25T18:33:33.923506Z",
     "iopub.status.idle": "2025-09-25T18:33:33.930085Z",
     "shell.execute_reply": "2025-09-25T18:33:33.929141Z"
    }
   },
   "outputs": [
    {
     "data": {
      "text/plain": [
       "'2.0 N/(m**2)'"
      ]
     },
     "execution_count": 7,
     "metadata": {},
     "output_type": "execute_result"
    }
   ],
   "source": [
    "puw.convert(q, to_form='string')"
   ]
  },
  {
   "cell_type": "code",
   "execution_count": 8,
   "metadata": {
    "execution": {
     "iopub.execute_input": "2025-09-25T18:33:33.933929Z",
     "iopub.status.busy": "2025-09-25T18:33:33.933512Z",
     "iopub.status.idle": "2025-09-25T18:33:33.939147Z",
     "shell.execute_reply": "2025-09-25T18:33:33.937971Z"
    }
   },
   "outputs": [],
   "source": [
    "u = puw.convert('kelvin**(-1)', to_type='unit')"
   ]
  },
  {
   "cell_type": "code",
   "execution_count": 9,
   "metadata": {
    "execution": {
     "iopub.execute_input": "2025-09-25T18:33:33.942971Z",
     "iopub.status.busy": "2025-09-25T18:33:33.942554Z",
     "iopub.status.idle": "2025-09-25T18:33:33.949063Z",
     "shell.execute_reply": "2025-09-25T18:33:33.948019Z"
    }
   },
   "outputs": [
    {
     "data": {
      "text/plain": [
       "Unit({BaseUnit(base_dim=BaseDimension(\"temperature\"), name=\"kelvin\", symbol=\"K\"): -1.0})"
      ]
     },
     "execution_count": 9,
     "metadata": {},
     "output_type": "execute_result"
    }
   ],
   "source": [
    "u"
   ]
  },
  {
   "cell_type": "code",
   "execution_count": 10,
   "metadata": {
    "execution": {
     "iopub.execute_input": "2025-09-25T18:33:33.952860Z",
     "iopub.status.busy": "2025-09-25T18:33:33.952441Z",
     "iopub.status.idle": "2025-09-25T18:33:33.958795Z",
     "shell.execute_reply": "2025-09-25T18:33:33.957696Z"
    }
   },
   "outputs": [
    {
     "data": {
      "text/plain": [
       "'/kelvin'"
      ]
     },
     "execution_count": 10,
     "metadata": {},
     "output_type": "execute_result"
    }
   ],
   "source": [
    "puw.convert(u, to_form='string')"
   ]
  }
 ],
 "metadata": {
  "kernelspec": {
   "display_name": "Python 3 (ipykernel)",
   "language": "python",
   "name": "python3"
  },
  "language_info": {
   "codemirror_mode": {
    "name": "ipython",
    "version": 3
   },
   "file_extension": ".py",
   "mimetype": "text/x-python",
   "name": "python",
   "nbconvert_exporter": "python",
   "pygments_lexer": "ipython3",
   "version": "3.12.11"
  }
 },
 "nbformat": 4,
 "nbformat_minor": 4
}